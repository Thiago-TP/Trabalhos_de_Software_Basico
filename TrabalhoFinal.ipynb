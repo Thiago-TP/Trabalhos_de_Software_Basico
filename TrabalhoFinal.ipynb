{
  "nbformat": 4,
  "nbformat_minor": 0,
  "metadata": {
    "colab": {
      "provenance": [],
      "gpuType": "T4",
      "include_colab_link": true
    },
    "kernelspec": {
      "name": "python3",
      "display_name": "Python 3"
    },
    "language_info": {
      "name": "python"
    },
    "accelerator": "GPU"
  },
  "cells": [
    {
      "cell_type": "markdown",
      "metadata": {
        "id": "view-in-github",
        "colab_type": "text"
      },
      "source": [
        "<a href=\"https://colab.research.google.com/github/Thiago-TP/Trabalhos_de_Software_Basico/blob/main/TrabalhoFinal.ipynb\" target=\"_parent\"><img src=\"https://colab.research.google.com/assets/colab-badge.svg\" alt=\"Open In Colab\"/></a>"
      ]
    },
    {
      "cell_type": "code",
      "source": [
        "# Conversão de Label das imagens\n",
        "\n",
        "import os\n",
        "import shutil\n",
        "import random\n",
        "\n",
        "# Diretórios base de imagens, rótulos e destino final do dataset\n",
        "img_dir = '/content/all_images'        # Diretório com imagens originais\n",
        "label_dir = '/content/all_labels'      # Diretório com todos os rótulos\n",
        "dataset_dir = '/content/dataset'       # Diretório da nova estrutura do dataset\n",
        "\n",
        "# Tamanho padrão das imagens\n",
        "img_size = 512\n",
        "\n",
        "# Quantidade de imagens em cada subdivisão do dataset\n",
        "train_count = 132  # Quantidade para treino\n",
        "val_count = 44     # Quantidade para validação\n",
        "test_count = 44    # Quantidade para teste\n",
        "\n",
        "# Criar as pastas para armazenar as imagens e os rótulos divididos\n",
        "for split in ['train', 'val', 'test']:\n",
        "    os.makedirs(os.path.join(dataset_dir, 'images', split), exist_ok=True)\n",
        "    os.makedirs(os.path.join(dataset_dir, 'labels', split), exist_ok=True)\n",
        "\n",
        "# Listar todas as imagens disponíveis no diretório\n",
        "all_images = [f for f in os.listdir(img_dir) if f.endswith(('.jpg', '.png'))]\n",
        "all_images.sort()  # Ordena para garantir consistência na seleção\n",
        "random.seed(42)    # Define uma semente para reprodução dos resultados\n",
        "random.shuffle(all_images)  # Embaralha as imagens aleatoriamente\n",
        "\n",
        "# Divide a lista de imagens conforme os contadores definidos\n",
        "train_imgs = all_images[:train_count]\n",
        "val_imgs = all_images[train_count:train_count + val_count]\n",
        "test_imgs = all_images[train_count + val_count:]  # O restante vai para teste\n",
        "\n",
        "# Dicionário com a separação por tipo de uso\n",
        "splits = {\n",
        "    'train': train_imgs,\n",
        "    'val': val_imgs,\n",
        "    'test': test_imgs\n",
        "}\n",
        "\n",
        "# Converte rótulos no formato (xmin, ymin, xmax, ymax) para o formato YOLO\n",
        "def convert_label(line):\n",
        "    parts = list(map(int, line.strip().split()))  # Lê os números da linha e converte para inteiros\n",
        "\n",
        "    # Caso o rótulo não tenha classe, assume classe 0\n",
        "    if len(parts) == 4:\n",
        "        xmin, ymin, xmax, ymax = parts\n",
        "        class_id = 0\n",
        "    elif len(parts) == 5:\n",
        "        class_id, xmin, ymin, xmax, ymax = parts\n",
        "    else:\n",
        "        return None  # Ignora linhas que não seguem os formatos esperados\n",
        "\n",
        "    # Conversão para o formato YOLO: centro X, centro Y, largura e altura (normalizados)\n",
        "    x_center = (xmin + xmax) / 2 / img_size\n",
        "    y_center = (ymin + ymax) / 2 / img_size\n",
        "    width = (xmax - xmin) / img_size\n",
        "    height = (ymax - ymin) / img_size\n",
        "\n",
        "    # Retorna a linha no formato YOLO (classe x y w h)\n",
        "    return f\"{class_id} {x_center:.6f} {y_center:.6f} {width:.6f} {height:.6f}\"\n",
        "\n",
        "# Percorre todas as divisões (treino, validação, teste)\n",
        "for split, image_list in splits.items():\n",
        "    for img_name in image_list:\n",
        "        base = os.path.splitext(img_name)[0]  # Nome do arquivo sem extensão\n",
        "\n",
        "        # Caminhos de origem da imagem e do rótulo\n",
        "        img_src = os.path.join(img_dir, img_name)\n",
        "        lbl_src = os.path.join(label_dir, base + '.txt')\n",
        "\n",
        "        # Caminhos de destino da imagem e do rótulo convertidos\n",
        "        img_dst = os.path.join(dataset_dir, 'images', split, img_name)\n",
        "        lbl_dst = os.path.join(dataset_dir, 'labels', split, base + '.txt')\n",
        "\n",
        "        # Copia a imagem para o novo diretório\n",
        "        shutil.copy(img_src, img_dst)\n",
        "\n",
        "        # Abre o arquivo de rótulo original e escreve o novo rótulo no formato YOLO\n",
        "        with open(lbl_src, 'r') as infile, open(lbl_dst, 'w') as outfile:\n",
        "            for line in infile:\n",
        "                yolo_line = convert_label(line)\n",
        "                if yolo_line:\n",
        "                    outfile.write(yolo_line + '\\n')  # Escreve a linha convertida\n"
      ],
      "metadata": {
        "id": "rlMCvuKLI8XE"
      },
      "execution_count": null,
      "outputs": []
    },
    {
      "cell_type": "code",
      "source": [
        "# Instala o pacote 'ultralytics', que contém implementações modernas do modelo YOLO,\n",
        "!pip install ultralytics\n",
        "\n",
        "# Verifica se uma GPU com suporte CUDA está disponível no sistema.\n",
        "import torch\n",
        "print(\"CUDA disponível:\", torch.cuda.is_available())\n"
      ],
      "metadata": {
        "id": "sqy-QehWHi3x"
      },
      "execution_count": null,
      "outputs": []
    },
    {
      "cell_type": "code",
      "source": [
        "# Importa a classe principal da biblioteca Ultralytics, que oferece suporte aos modelos YOLO\n",
        "from ultralytics import YOLO\n",
        "\n",
        "# Carrega o modelo YOLOv8 na versão 'n' (nano), versão leve e rápida\n",
        "model = YOLO('yolov8n.pt')\n",
        "\n",
        "# Inicia o treinamento do modelo com os seguintes parâmetros:\n",
        "model.train(\n",
        "    data='/content/dataset/data.yaml',  # Caminho para o arquivo de configuração do dataset\n",
        "    epochs=2000,                        # Número de épocas de treinamento\n",
        "    imgsz=512                           # Tamanho das imagens\n",
        ")"
      ],
      "metadata": {
        "id": "SSl-8h8yQbQc"
      },
      "execution_count": null,
      "outputs": []
    },
    {
      "cell_type": "code",
      "source": [
        "# Avalia o desempenho do modelo treinado usando o conjunto de teste definido no arquivo data.yaml\n",
        "metrics = model.val(split='test')\n",
        "\n",
        "# Imprime a métrica AP50\n",
        "print(\"AP50:\", metrics.box.map50)\n"
      ],
      "metadata": {
        "id": "Pmal97INZfoU"
      },
      "execution_count": null,
      "outputs": []
    },
    {
      "cell_type": "code",
      "source": [
        "# Importa a classe YOLO da biblioteca Ultralytics\n",
        "from ultralytics import YOLO\n",
        "\n",
        "# Importa a biblioteca os para manipulação de diretórios\n",
        "import os\n",
        "\n",
        "# Carrega o modelo treinado anteriormente, usando o melhor checkpoint salvo durante o treinamento\n",
        "model = YOLO('runs/detect/train4/weights/best.pt')\n",
        "\n",
        "# Define o diretório onde estão as imagens que serão usadas para teste/predição\n",
        "test_images_dir = '/content/dataset/images/test'\n",
        "\n",
        "# Realiza predições sobre as imagens da pasta de teste\n",
        "results = model.predict(\n",
        "    source=test_images_dir,  # Caminho para as imagens de entrada\n",
        "    imgsz=512,               # Redimensiona as imagens para 512x512 durante a inferência\n",
        "    save=True,               # Salva as imagens com as caixas de detecção desenhadas\n",
        "    save_txt=True,           # Salva os rótulos das predições em arquivos .txt (formato YOLO)\n",
        "    conf=0.25                # Confiança mínima para mostrar uma predição (ex: se for menor que 25%, é ignorada)\n",
        ")\n"
      ],
      "metadata": {
        "id": "iFaRioyqZkbE"
      },
      "execution_count": null,
      "outputs": []
    },
    {
      "cell_type": "code",
      "source": [
        "import shutil\n",
        "\n",
        "# Define o caminho da pasta que contém os resultados das predições (imagens e .txt)\n",
        "pasta = '/content/runs/detect/predict'  # Pasta gerada após model.predict()\n",
        "\n",
        "# Cria um arquivo ZIP compactando toda a pasta de predições\n",
        "shutil.make_archive('/content/predicoes', 'zip', pasta)\n",
        "\n",
        "from google.colab import files\n",
        "\n",
        "# Faz o download do arquivo ZIP para o computador do usuário\n",
        "files.download('/content/predicoes.zip')"
      ],
      "metadata": {
        "id": "NjMoyqixZ3_R"
      },
      "execution_count": null,
      "outputs": []
    }
  ]
}